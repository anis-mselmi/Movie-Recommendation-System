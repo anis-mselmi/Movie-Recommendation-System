{
  "nbformat": 4,
  "nbformat_minor": 0,
  "metadata": {
    "colab": {
      "provenance": [],
      "authorship_tag": "ABX9TyPisTpDzYt4P87V3P6Mbh4A",
      "include_colab_link": true
    },
    "kernelspec": {
      "name": "python3",
      "display_name": "Python 3"
    },
    "language_info": {
      "name": "python"
    }
  },
  "cells": [
    {
      "cell_type": "markdown",
      "metadata": {
        "id": "view-in-github",
        "colab_type": "text"
      },
      "source": [
        "<a href=\"https://colab.research.google.com/github/anis-mselmi/Movie-Recommendation-System/blob/main/Movie_Recommendation_System.ipynb\" target=\"_parent\"><img src=\"https://colab.research.google.com/assets/colab-badge.svg\" alt=\"Open In Colab\"/></a>"
      ]
    },
    {
      "cell_type": "code",
      "execution_count": 2,
      "metadata": {
        "colab": {
          "base_uri": "https://localhost:8080/"
        },
        "id": "FS8kshpFtzhG",
        "outputId": "60b6ae60-eaf1-479f-c0c0-527cf330aae3"
      },
      "outputs": [
        {
          "output_type": "stream",
          "name": "stdout",
          "text": [
            "Requirement already satisfied: pandas in /usr/local/lib/python3.12/dist-packages (2.2.2)\n",
            "Requirement already satisfied: scikit-learn in /usr/local/lib/python3.12/dist-packages (1.6.1)\n",
            "Requirement already satisfied: numpy>=1.26.0 in /usr/local/lib/python3.12/dist-packages (from pandas) (2.0.2)\n",
            "Requirement already satisfied: python-dateutil>=2.8.2 in /usr/local/lib/python3.12/dist-packages (from pandas) (2.9.0.post0)\n",
            "Requirement already satisfied: pytz>=2020.1 in /usr/local/lib/python3.12/dist-packages (from pandas) (2025.2)\n",
            "Requirement already satisfied: tzdata>=2022.7 in /usr/local/lib/python3.12/dist-packages (from pandas) (2025.2)\n",
            "Requirement already satisfied: scipy>=1.6.0 in /usr/local/lib/python3.12/dist-packages (from scikit-learn) (1.16.1)\n",
            "Requirement already satisfied: joblib>=1.2.0 in /usr/local/lib/python3.12/dist-packages (from scikit-learn) (1.5.2)\n",
            "Requirement already satisfied: threadpoolctl>=3.1.0 in /usr/local/lib/python3.12/dist-packages (from scikit-learn) (3.6.0)\n",
            "Requirement already satisfied: six>=1.5 in /usr/local/lib/python3.12/dist-packages (from python-dateutil>=2.8.2->pandas) (1.17.0)\n"
          ]
        }
      ],
      "source": [
        "!pip install pandas scikit-learn\n"
      ]
    },
    {
      "cell_type": "code",
      "source": [
        "import pandas as pd\n",
        "from sklearn.feature_extraction.text import CountVectorizer\n",
        "from sklearn.metrics.pairwise import cosine_similarity\n"
      ],
      "metadata": {
        "id": "M-YISAe6uWoA"
      },
      "execution_count": 3,
      "outputs": []
    },
    {
      "cell_type": "code",
      "source": [
        "data = {\n",
        "    'Movie': [\n",
        "        'Avengers: Endgame',\n",
        "        'Iron Man',\n",
        "        'Captain America: The First Avenger',\n",
        "        'Thor',\n",
        "        'Doctor Strange',\n",
        "        'Black Panther',\n",
        "        'Spider-Man: Homecoming',\n",
        "        'Guardians of the Galaxy'\n",
        "    ],\n",
        "    'Description': [\n",
        "        'Superheroes team up to save the universe from Thanos',\n",
        "        'A billionaire builds a powerful suit of armor',\n",
        "        'A soldier becomes the first super soldier in history',\n",
        "        'The god of thunder protects Asgard and Earth',\n",
        "        'A surgeon learns mystical arts and fights dark forces',\n",
        "        'A king defends his nation of Wakanda with advanced tech',\n",
        "        'A teenager balances high school life with being a hero',\n",
        "        'A group of misfits come together to protect the galaxy'\n",
        "    ]\n",
        "}\n",
        "\n",
        "df = pd.DataFrame(data)\n",
        "print(\"🎬 Movie Dataset:\\n\")\n",
        "print(df)\n"
      ],
      "metadata": {
        "colab": {
          "base_uri": "https://localhost:8080/"
        },
        "id": "hRWe_txYuYQI",
        "outputId": "1c88d1e6-72ea-4e9f-af62-6dcfbe5b4980"
      },
      "execution_count": 4,
      "outputs": [
        {
          "output_type": "stream",
          "name": "stdout",
          "text": [
            "🎬 Movie Dataset:\n",
            "\n",
            "                                Movie  \\\n",
            "0                   Avengers: Endgame   \n",
            "1                            Iron Man   \n",
            "2  Captain America: The First Avenger   \n",
            "3                                Thor   \n",
            "4                      Doctor Strange   \n",
            "5                       Black Panther   \n",
            "6              Spider-Man: Homecoming   \n",
            "7             Guardians of the Galaxy   \n",
            "\n",
            "                                         Description  \n",
            "0  Superheroes team up to save the universe from ...  \n",
            "1      A billionaire builds a powerful suit of armor  \n",
            "2  A soldier becomes the first super soldier in h...  \n",
            "3       The god of thunder protects Asgard and Earth  \n",
            "4  A surgeon learns mystical arts and fights dark...  \n",
            "5  A king defends his nation of Wakanda with adva...  \n",
            "6  A teenager balances high school life with bein...  \n",
            "7  A group of misfits come together to protect th...  \n"
          ]
        }
      ]
    },
    {
      "cell_type": "code",
      "source": [
        "vectorizer = CountVectorizer()\n",
        "count_matrix = vectorizer.fit_transform(df['Description'])\n"
      ],
      "metadata": {
        "id": "DhCm-UwRueHH"
      },
      "execution_count": 5,
      "outputs": []
    },
    {
      "cell_type": "code",
      "source": [
        "similarity = cosine_similarity(count_matrix)\n"
      ],
      "metadata": {
        "id": "JPdoUwczugi-"
      },
      "execution_count": 6,
      "outputs": []
    },
    {
      "cell_type": "code",
      "source": [
        "def recommend(movie_name):\n",
        "    if movie_name not in df['Movie'].values:\n",
        "        return \"Movie not found in database!\"\n",
        "\n",
        "    idx = df[df['Movie'] == movie_name].index[0]\n",
        "    scores = list(enumerate(similarity[idx]))\n",
        "    scores = sorted(scores, key=lambda x: x[1], reverse=True)\n",
        "\n",
        "    print(f\"\\n🔥 Recommended movies similar to '{movie_name}':\\n\")\n",
        "    for i, score in scores[1:4]:  # top 3 recommendations\n",
        "        print(df['Movie'][i])\n"
      ],
      "metadata": {
        "id": "xezD9FaIuiU0"
      },
      "execution_count": 7,
      "outputs": []
    },
    {
      "cell_type": "code",
      "source": [
        "recommend(\"Iron Man\")\n",
        "recommend(\"Doctor Strange\")\n"
      ],
      "metadata": {
        "colab": {
          "base_uri": "https://localhost:8080/"
        },
        "id": "AZMCzN_gunGV",
        "outputId": "68797172-2b83-48d7-e017-df48039d39b4"
      },
      "execution_count": 8,
      "outputs": [
        {
          "output_type": "stream",
          "name": "stdout",
          "text": [
            "\n",
            "🔥 Recommended movies similar to 'Iron Man':\n",
            "\n",
            "Thor\n",
            "Black Panther\n",
            "Guardians of the Galaxy\n",
            "\n",
            "🔥 Recommended movies similar to 'Doctor Strange':\n",
            "\n",
            "Thor\n",
            "Avengers: Endgame\n",
            "Iron Man\n"
          ]
        }
      ]
    }
  ]
}